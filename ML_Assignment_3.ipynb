{
  "cells": [
    {
      "cell_type": "code",
      "execution_count": null,
      "id": "db4ae4de",
      "metadata": {
        "id": "db4ae4de",
        "outputId": "5ce00639-996e-45ef-fec6-c55b0564a01c"
      },
      "outputs": [
        {
          "name": "stdout",
          "output_type": "stream",
          "text": [
            "[ 6  2 17  5  3  6 13 13  5  8 17 19  7 17  9]\n"
          ]
        }
      ],
      "source": [
        "#1. Numpy:\n",
        "# Using NumPy create random vector of size 15 having only Integers in the range 1-20.\n",
        "import numpy as np\n",
        "x = np.random.randint(1,20, size = 15)\n",
        "print (x)"
      ]
    },
    {
      "cell_type": "code",
      "execution_count": null,
      "id": "c11fd21a",
      "metadata": {
        "id": "c11fd21a",
        "outputId": "f58ba201-c4a5-43d4-d932-a44e5faf1d4a"
      },
      "outputs": [
        {
          "name": "stdout",
          "output_type": "stream",
          "text": [
            "[[ 6  2 17  5  3]\n",
            " [ 6 13 13  5  8]\n",
            " [17 19  7 17  9]]\n"
          ]
        }
      ],
      "source": [
        "# 1. Reshape the array to 3 by 5\n",
        "y=x.reshape(3,5)\n",
        "print(y)\n"
      ]
    },
    {
      "cell_type": "code",
      "execution_count": null,
      "id": "8d6f20e8",
      "metadata": {
        "id": "8d6f20e8",
        "outputId": "318bba20-e008-46d9-c218-68168cf7ad9c"
      },
      "outputs": [
        {
          "name": "stdout",
          "output_type": "stream",
          "text": [
            "array is : [[ 6  2 17  5  3]\n",
            " [ 6 13 13  5  8]\n",
            " [17 19  7 17  9]]\n",
            "array shape is: (3, 5)\n"
          ]
        }
      ],
      "source": [
        "# 2. Print array shape.\n",
        "print(\"array is :\",y)\n",
        "print (\"array shape is:\",y.shape)\n"
      ]
    },
    {
      "cell_type": "code",
      "execution_count": null,
      "id": "b9d57a88",
      "metadata": {
        "id": "b9d57a88",
        "outputId": "8506d63f-d5a1-4fb0-82a0-a0d017e506fe"
      },
      "outputs": [
        {
          "name": "stdout",
          "output_type": "stream",
          "text": [
            "[[ 6  2  0  5  3]\n",
            " [ 6  0  0  5  8]\n",
            " [17  0  7 17  9]]\n"
          ]
        }
      ],
      "source": [
        "# 3. Replace the max in each row by 0\n",
        "new_a = np.where(y == [\n",
        "    [i]\n",
        "    for i in np.amax(y, axis = 1)\n",
        "], 0, y)\n",
        "\n",
        "print(new_a)"
      ]
    },
    {
      "cell_type": "code",
      "execution_count": null,
      "id": "61c6b4b7",
      "metadata": {
        "id": "61c6b4b7",
        "outputId": "a0919422-9e6c-405e-fade-4e8534f55a61"
      },
      "outputs": [
        {
          "name": "stdout",
          "output_type": "stream",
          "text": [
            "Array shape: (4, 3)\n",
            "Array type: <class 'numpy.ndarray'>\n",
            "Array data type: int32\n"
          ]
        }
      ],
      "source": [
        "# Create a 2-dimensional array of size 4 x 3 (composed of 4-byte integer elements), also print the shape, type and data type\n",
        "#of the array.\n",
        "import numpy as np\n",
        "\n",
        "# create a 2-dimensional array of size 4x3\n",
        "arr = np.array([[1, 2, 3], [4, 5, 6], [7, 8, 9], [10, 11, 12]], dtype=np.int32)\n",
        "\n",
        "# print the array shape\n",
        "print(\"Array shape:\", arr.shape)\n",
        "\n",
        "# print the array type\n",
        "print(\"Array type:\", type(arr))\n",
        "\n",
        "# print the array data type\n",
        "print(\"Array data type:\", arr.dtype)\n"
      ]
    },
    {
      "cell_type": "code",
      "execution_count": null,
      "id": "37852d2d",
      "metadata": {
        "id": "37852d2d",
        "outputId": "46fb7cf8-2337-452b-89ac-5d38b107b656"
      },
      "outputs": [
        {
          "name": "stdout",
          "output_type": "stream",
          "text": [
            "Eigenvalues: [2. 1.]\n",
            "Right eigenvectors:\n",
            "[[0.89442719 0.70710678]\n",
            " [0.4472136  0.70710678]]\n"
          ]
        }
      ],
      "source": [
        "#1(b) Write a program to compute the eigenvalues and right eigenvectors\n",
        "import numpy as np\n",
        "\n",
        "# define the square array\n",
        "A = np.array([[3, -2], [1, 0]])\n",
        "\n",
        "# compute the eigenvalues and right eigenvectors\n",
        "eigenvalues, eigenvectors = np.linalg.eig(A)\n",
        "\n",
        "# print the eigenvalues and right eigenvectors\n",
        "print(\"Eigenvalues:\", eigenvalues)\n",
        "print(\"Right eigenvectors:\")\n",
        "print(eigenvectors)\n"
      ]
    },
    {
      "cell_type": "code",
      "execution_count": null,
      "id": "86b8a7cd",
      "metadata": {
        "id": "86b8a7cd",
        "outputId": "0eafcf42-ebb5-48f8-c144-f2cedde321b4"
      },
      "outputs": [
        {
          "name": "stdout",
          "output_type": "stream",
          "text": [
            "Sum of diagonal elements: 4\n"
          ]
        }
      ],
      "source": [
        "#1(c)Compute the sum of the diagonal element of a given array.\n",
        "import numpy as np\n",
        "\n",
        "# define the array\n",
        "A = np.array([[0, 1, 2], [3, 4, 5]])\n",
        "\n",
        "# compute the sum of the diagonal elements\n",
        "diagonal_sum = np.trace(A)\n",
        "\n",
        "# print the sum of the diagonal elements\n",
        "print(\"Sum of diagonal elements:\", diagonal_sum)\n"
      ]
    },
    {
      "cell_type": "code",
      "execution_count": null,
      "id": "e8ab3b32",
      "metadata": {
        "id": "e8ab3b32",
        "outputId": "024e5f53-740c-4bfd-e01c-297d48ab0db3"
      },
      "outputs": [
        {
          "name": "stdout",
          "output_type": "stream",
          "text": [
            "Reshaped to 3x2:\n",
            " [[1 2]\n",
            " [3 4]\n",
            " [5 6]]\n",
            "Reshaped to 2x3:\n",
            " [[1 2 3]\n",
            " [4 5 6]]\n"
          ]
        }
      ],
      "source": [
        "#1(d)Write a NumPy program to create a new shape to an array without changing its data.\n",
        "import numpy as np\n",
        "\n",
        "# define the original array\n",
        "arr = np.array([[1, 2], [3, 4], [5, 6]])\n",
        "\n",
        "# reshape to 3x2\n",
        "arr_3x2 = arr.reshape(3, 2)\n",
        "\n",
        "# reshape to 2x3\n",
        "arr_2x3 = arr.reshape(2, 3)\n",
        "\n",
        "print(\"Reshaped to 3x2:\\n\", arr_3x2)\n",
        "print(\"Reshaped to 2x3:\\n\", arr_2x3)\n"
      ]
    },
    {
      "cell_type": "code",
      "execution_count": null,
      "id": "b8c3931b",
      "metadata": {
        "id": "b8c3931b"
      },
      "outputs": [],
      "source": []
    }
  ],
  "metadata": {
    "kernelspec": {
      "display_name": "Python 3 (ipykernel)",
      "language": "python",
      "name": "python3"
    },
    "language_info": {
      "codemirror_mode": {
        "name": "ipython",
        "version": 3
      },
      "file_extension": ".py",
      "mimetype": "text/x-python",
      "name": "python",
      "nbconvert_exporter": "python",
      "pygments_lexer": "ipython3",
      "version": "3.11.1"
    },
    "colab": {
      "provenance": []
    }
  },
  "nbformat": 4,
  "nbformat_minor": 5
}